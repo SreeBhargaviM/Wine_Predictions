{
  "nbformat": 4,
  "nbformat_minor": 0,
  "metadata": {
    "colab": {
      "name": "Untitled22.ipynb",
      "provenance": [],
      "authorship_tag": "ABX9TyMHsl+JPLxYnhhnukCy21CN",
      "include_colab_link": true
    },
    "kernelspec": {
      "name": "python3",
      "display_name": "Python 3"
    }
  },
  "cells": [
    {
      "cell_type": "markdown",
      "metadata": {
        "id": "view-in-github",
        "colab_type": "text"
      },
      "source": [
        "<a href=\"https://colab.research.google.com/github/SreeBhargaviM/Wine_Predictions/blob/master/basic_model1.ipynb\" target=\"_parent\"><img src=\"https://colab.research.google.com/assets/colab-badge.svg\" alt=\"Open In Colab\"/></a>"
      ]
    },
    {
      "cell_type": "code",
      "metadata": {
        "id": "DQpqPthQNfwS",
        "colab_type": "code",
        "colab": {}
      },
      "source": [
        "import pandas as pd\n",
        "train_data = pd.read_csv('winemag-data-130k-v2.csv')"
      ],
      "execution_count": 24,
      "outputs": []
    },
    {
      "cell_type": "code",
      "metadata": {
        "id": "xiDRdissTAcf",
        "colab_type": "code",
        "colab": {}
      },
      "source": [
        "train_data = train_data.sample(frac=1)"
      ],
      "execution_count": 25,
      "outputs": []
    },
    {
      "cell_type": "code",
      "metadata": {
        "id": "2GV-XFIPOoyf",
        "colab_type": "code",
        "colab": {
          "base_uri": "https://localhost:8080/",
          "height": 85
        },
        "outputId": "cae21c94-c43c-4e2c-ec5d-68d41ddfd292"
      },
      "source": [
        "train_data.columns"
      ],
      "execution_count": 26,
      "outputs": [
        {
          "output_type": "execute_result",
          "data": {
            "text/plain": [
              "Index(['Unnamed: 0', 'country', 'description', 'designation', 'points',\n",
              "       'price', 'province', 'region_1', 'region_2', 'taster_name',\n",
              "       'taster_twitter_handle', 'title', 'variety', 'winery'],\n",
              "      dtype='object')"
            ]
          },
          "metadata": {
            "tags": []
          },
          "execution_count": 26
        }
      ]
    },
    {
      "cell_type": "code",
      "metadata": {
        "id": "mi2lImFBSl0t",
        "colab_type": "code",
        "colab": {
          "base_uri": "https://localhost:8080/",
          "height": 34
        },
        "outputId": "e7afb6ec-e083-4cb0-9727-29f02633917c"
      },
      "source": [
        "len(list(train_data['variety']))"
      ],
      "execution_count": 27,
      "outputs": [
        {
          "output_type": "execute_result",
          "data": {
            "text/plain": [
              "129971"
            ]
          },
          "metadata": {
            "tags": []
          },
          "execution_count": 27
        }
      ]
    },
    {
      "cell_type": "code",
      "metadata": {
        "id": "RJQrKHDLR67w",
        "colab_type": "code",
        "colab": {
          "base_uri": "https://localhost:8080/",
          "height": 34
        },
        "outputId": "37f3755e-8802-4a24-de87-831f8aabcc55"
      },
      "source": [
        "names = set(train_data['variety'])\n",
        "len(names)"
      ],
      "execution_count": 28,
      "outputs": [
        {
          "output_type": "execute_result",
          "data": {
            "text/plain": [
              "708"
            ]
          },
          "metadata": {
            "tags": []
          },
          "execution_count": 28
        }
      ]
    },
    {
      "cell_type": "code",
      "metadata": {
        "id": "wmWOPvciT4Jt",
        "colab_type": "code",
        "colab": {}
      },
      "source": [
        "wine_dict = {x: i for i,x in enumerate(list(names))}\n"
      ],
      "execution_count": 29,
      "outputs": []
    },
    {
      "cell_type": "code",
      "metadata": {
        "id": "D1qIsuMZTgZz",
        "colab_type": "code",
        "colab": {}
      },
      "source": [
        "def str_to_num(s,dict1):\n",
        "  l = [dict1[word] for word in s]\n",
        "  return l"
      ],
      "execution_count": 30,
      "outputs": []
    },
    {
      "cell_type": "code",
      "metadata": {
        "id": "LGJMwTD7UTdS",
        "colab_type": "code",
        "colab": {}
      },
      "source": [
        "wine_label = str_to_num(list(train_data['variety']), wine_dict)"
      ],
      "execution_count": 31,
      "outputs": []
    },
    {
      "cell_type": "code",
      "metadata": {
        "id": "m_BAyggPUt7R",
        "colab_type": "code",
        "colab": {
          "base_uri": "https://localhost:8080/",
          "height": 34
        },
        "outputId": "eb369c3f-9774-4902-9b8c-1a4dd588bf92"
      },
      "source": [
        "wine_label[1:10]"
      ],
      "execution_count": 32,
      "outputs": [
        {
          "output_type": "execute_result",
          "data": {
            "text/plain": [
              "[540, 141, 141, 195, 676, 178, 571, 99, 401]"
            ]
          },
          "metadata": {
            "tags": []
          },
          "execution_count": 32
        }
      ]
    },
    {
      "cell_type": "code",
      "metadata": {
        "id": "sfCgOGqfV111",
        "colab_type": "code",
        "colab": {}
      },
      "source": [
        "import tensorflow as tf\n",
        "from tensorflow import keras\n",
        "from tensorflow.keras import layers\n",
        "from keras.models import Sequential\n",
        "from keras.layers import Dense\n",
        "from keras.utils import to_categorical\n",
        "from tensorflow.keras.preprocessing.text import Tokenizer\n",
        "from tensorflow.keras.preprocessing.sequence import pad_sequences"
      ],
      "execution_count": 10,
      "outputs": []
    },
    {
      "cell_type": "code",
      "metadata": {
        "id": "twJYUgDvVvBn",
        "colab_type": "code",
        "colab": {}
      },
      "source": [
        "wine_label = tf.keras.utils.to_categorical(wine_label)"
      ],
      "execution_count": 33,
      "outputs": []
    },
    {
      "cell_type": "code",
      "metadata": {
        "id": "fSmC-NjeV-a3",
        "colab_type": "code",
        "colab": {
          "base_uri": "https://localhost:8080/",
          "height": 34
        },
        "outputId": "a51344b2-80f8-419e-a1fe-9427ce92758a"
      },
      "source": [
        "len(wine_label[1000])"
      ],
      "execution_count": 42,
      "outputs": [
        {
          "output_type": "execute_result",
          "data": {
            "text/plain": [
              "708"
            ]
          },
          "metadata": {
            "tags": []
          },
          "execution_count": 42
        }
      ]
    },
    {
      "cell_type": "code",
      "metadata": {
        "id": "uRrnTBZBWk8Y",
        "colab_type": "code",
        "colab": {}
      },
      "source": [
        "train1 = list(train_data['description'])\n"
      ],
      "execution_count": 34,
      "outputs": []
    },
    {
      "cell_type": "code",
      "metadata": {
        "id": "Twdi30_Fijm_",
        "colab_type": "code",
        "colab": {}
      },
      "source": [
        "for i in range(len(train1)):\n",
        "  train1[i] = train1[i].lower()\n"
      ],
      "execution_count": 35,
      "outputs": []
    },
    {
      "cell_type": "code",
      "metadata": {
        "id": "59PmD8PqjHN3",
        "colab_type": "code",
        "colab": {
          "base_uri": "https://localhost:8080/",
          "height": 52
        },
        "outputId": "17cade4e-ab38-4e9d-c478-3343efbde518"
      },
      "source": [
        "train1[120]"
      ],
      "execution_count": 36,
      "outputs": [
        {
          "output_type": "execute_result",
          "data": {
            "application/vnd.google.colaboratory.intrinsic+json": {
              "type": "string"
            },
            "text/plain": [
              "'red cherry, a touch of cinnamon, purple flowers and baked vanilla cookies show on the nose of this wine. black cherry and gingerbread spice consume the palate, which also offers a rocky minerality and a vanilla foam finish.'"
            ]
          },
          "metadata": {
            "tags": []
          },
          "execution_count": 36
        }
      ]
    },
    {
      "cell_type": "code",
      "metadata": {
        "id": "A3b7ymuKjst6",
        "colab_type": "code",
        "colab": {
          "base_uri": "https://localhost:8080/",
          "height": 34
        },
        "outputId": "c3b988ba-9c48-4183-8ce1-76ff1c2a3d83"
      },
      "source": [
        "len(train1[120].split())"
      ],
      "execution_count": 37,
      "outputs": [
        {
          "output_type": "execute_result",
          "data": {
            "text/plain": [
              "38"
            ]
          },
          "metadata": {
            "tags": []
          },
          "execution_count": 37
        }
      ]
    },
    {
      "cell_type": "code",
      "metadata": {
        "id": "bUGlUpmJjLTM",
        "colab_type": "code",
        "colab": {}
      },
      "source": [
        "def filter_stop_words(train_sentences, stop_words):\n",
        "    for i, sentence in enumerate(train_sentences):\n",
        "        new_sent = [word for word in sentence.split() if word not in stop_words]\n",
        "        new_sent1 = [wor for wor in new_sent if wor.isalpha()]\n",
        "        train_sentences[i] = ' '.join(new_sent1)\n",
        "    return train_sentences"
      ],
      "execution_count": 38,
      "outputs": []
    },
    {
      "cell_type": "code",
      "metadata": {
        "id": "XRofy2QxjVoq",
        "colab_type": "code",
        "colab": {
          "base_uri": "https://localhost:8080/",
          "height": 51
        },
        "outputId": "c9656039-c844-48be-d728-d0ce8d9f8272"
      },
      "source": [
        "import nltk\n",
        "nltk.download('stopwords')\n",
        "from nltk.corpus import stopwords"
      ],
      "execution_count": 17,
      "outputs": [
        {
          "output_type": "stream",
          "text": [
            "[nltk_data] Downloading package stopwords to /root/nltk_data...\n",
            "[nltk_data]   Unzipping corpora/stopwords.zip.\n"
          ],
          "name": "stdout"
        }
      ]
    },
    {
      "cell_type": "code",
      "metadata": {
        "id": "DQu_GzKsjiSF",
        "colab_type": "code",
        "colab": {}
      },
      "source": [
        "import numpy as np"
      ],
      "execution_count": 19,
      "outputs": []
    },
    {
      "cell_type": "code",
      "metadata": {
        "id": "Q3rB-dItjYAF",
        "colab_type": "code",
        "colab": {}
      },
      "source": [
        "stop_words = set(stopwords.words(\"english\"))\n",
        "train1 = np.array(filter_stop_words(train1, stop_words))"
      ],
      "execution_count": 39,
      "outputs": []
    },
    {
      "cell_type": "code",
      "metadata": {
        "id": "bCYGqNwEjmro",
        "colab_type": "code",
        "colab": {
          "base_uri": "https://localhost:8080/",
          "height": 52
        },
        "outputId": "bdcaa056-d310-489e-9cc3-27077c9acfe4"
      },
      "source": [
        "train1[120]"
      ],
      "execution_count": 40,
      "outputs": [
        {
          "output_type": "execute_result",
          "data": {
            "application/vnd.google.colaboratory.intrinsic+json": {
              "type": "string"
            },
            "text/plain": [
              "'red touch purple flowers baked vanilla cookies show nose black cherry gingerbread spice consume also offers rocky minerality vanilla foam'"
            ]
          },
          "metadata": {
            "tags": []
          },
          "execution_count": 40
        }
      ]
    },
    {
      "cell_type": "code",
      "metadata": {
        "id": "7JWOSH9ajzkO",
        "colab_type": "code",
        "colab": {
          "base_uri": "https://localhost:8080/",
          "height": 34
        },
        "outputId": "51071498-72af-425b-c7c7-29e456170eda"
      },
      "source": [
        "len(train1[120].split())"
      ],
      "execution_count": 41,
      "outputs": [
        {
          "output_type": "execute_result",
          "data": {
            "text/plain": [
              "20"
            ]
          },
          "metadata": {
            "tags": []
          },
          "execution_count": 41
        }
      ]
    },
    {
      "cell_type": "code",
      "metadata": {
        "id": "w6jLC7L1kxsh",
        "colab_type": "code",
        "colab": {}
      },
      "source": [
        "tokenizer1 = Tokenizer( num_words = 1000, oov_token='<OOV>')\n",
        "tokenizer1.fit_on_texts(train1)\n",
        "word_index1 = tokenizer1.word_index\n",
        "vocab_len1 = len(word_index1)\n",
        "sequences1 = tokenizer1.texts_to_sequences(train1)\n",
        "padded1 = pad_sequences(sequences1,maxlen= 25, truncating= 'post')\n",
        "\n",
        "\n"
      ],
      "execution_count": 45,
      "outputs": []
    },
    {
      "cell_type": "code",
      "metadata": {
        "id": "o-saYiVOlLhQ",
        "colab_type": "code",
        "colab": {
          "base_uri": "https://localhost:8080/",
          "height": 323
        },
        "outputId": "39eba2fc-35f0-4304-f902-7319e52a0539"
      },
      "source": [
        "model = tf.keras.Sequential([\n",
        "    tf.keras.layers.Embedding(1000, 24, input_length=25),\n",
        "    tf.keras.layers.BatchNormalization(),\n",
        "    tf.keras.layers.LSTM(24, return_sequences=True),\n",
        "    tf.keras.layers.LSTM(12),\n",
        "    #tf.keras.layers.Dense(15, activation='relu'),\n",
        "    tf.keras.layers.Dense(708, activation='softmax')\n",
        "])\n",
        "model.compile(loss='categorical_crossentropy', optimizer='adam', metrics=['accuracy'])\n",
        "model.summary()"
      ],
      "execution_count": 43,
      "outputs": [
        {
          "output_type": "stream",
          "text": [
            "Model: \"sequential\"\n",
            "_________________________________________________________________\n",
            "Layer (type)                 Output Shape              Param #   \n",
            "=================================================================\n",
            "embedding (Embedding)        (None, 25, 24)            24000     \n",
            "_________________________________________________________________\n",
            "batch_normalization (BatchNo (None, 25, 24)            96        \n",
            "_________________________________________________________________\n",
            "lstm (LSTM)                  (None, 25, 24)            4704      \n",
            "_________________________________________________________________\n",
            "lstm_1 (LSTM)                (None, 12)                1776      \n",
            "_________________________________________________________________\n",
            "dense (Dense)                (None, 708)               9204      \n",
            "=================================================================\n",
            "Total params: 39,780\n",
            "Trainable params: 39,732\n",
            "Non-trainable params: 48\n",
            "_________________________________________________________________\n"
          ],
          "name": "stdout"
        }
      ]
    },
    {
      "cell_type": "code",
      "metadata": {
        "id": "BsMlFXJCmKQp",
        "colab_type": "code",
        "colab": {
          "base_uri": "https://localhost:8080/",
          "height": 394
        },
        "outputId": "843bc4d7-d94f-45e6-d064-8e7425d41f54"
      },
      "source": [
        "model.fit(padded1, wine_label, epochs=10, batch_size=200 ,validation_split=0.2)"
      ],
      "execution_count": 47,
      "outputs": [
        {
          "output_type": "stream",
          "text": [
            "Epoch 1/10\n",
            "520/520 [==============================] - 22s 42ms/step - loss: 3.9269 - accuracy: 0.1033 - val_loss: 3.8935 - val_accuracy: 0.1151\n",
            "Epoch 2/10\n",
            "520/520 [==============================] - 21s 40ms/step - loss: 3.7562 - accuracy: 0.1655 - val_loss: 3.5796 - val_accuracy: 0.2217\n",
            "Epoch 3/10\n",
            "520/520 [==============================] - 21s 40ms/step - loss: 3.3882 - accuracy: 0.2302 - val_loss: 3.2489 - val_accuracy: 0.2579\n",
            "Epoch 4/10\n",
            "520/520 [==============================] - 21s 40ms/step - loss: 3.1380 - accuracy: 0.2742 - val_loss: 3.0718 - val_accuracy: 0.2876\n",
            "Epoch 5/10\n",
            "520/520 [==============================] - 21s 41ms/step - loss: 2.9617 - accuracy: 0.2972 - val_loss: 2.9142 - val_accuracy: 0.3073\n",
            "Epoch 6/10\n",
            "520/520 [==============================] - 21s 40ms/step - loss: 2.8110 - accuracy: 0.3322 - val_loss: 2.7888 - val_accuracy: 0.3433\n",
            "Epoch 7/10\n",
            "520/520 [==============================] - 22s 41ms/step - loss: 2.6911 - accuracy: 0.3590 - val_loss: 2.6947 - val_accuracy: 0.3553\n",
            "Epoch 8/10\n",
            "520/520 [==============================] - 21s 41ms/step - loss: 2.6010 - accuracy: 0.3715 - val_loss: 2.6364 - val_accuracy: 0.3666\n",
            "Epoch 9/10\n",
            "520/520 [==============================] - 21s 41ms/step - loss: 2.5293 - accuracy: 0.3875 - val_loss: 2.5774 - val_accuracy: 0.3854\n",
            "Epoch 10/10\n",
            "520/520 [==============================] - 21s 41ms/step - loss: 2.4681 - accuracy: 0.4057 - val_loss: 2.5372 - val_accuracy: 0.3960\n"
          ],
          "name": "stdout"
        },
        {
          "output_type": "execute_result",
          "data": {
            "text/plain": [
              "<tensorflow.python.keras.callbacks.History at 0x7f8c72a9e748>"
            ]
          },
          "metadata": {
            "tags": []
          },
          "execution_count": 47
        }
      ]
    }
  ]
}